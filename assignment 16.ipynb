{
 "cells": [
  {
   "cell_type": "code",
   "execution_count": 7,
   "id": "4f2f63a9",
   "metadata": {},
   "outputs": [
    {
     "name": "stdout",
     "output_type": "stream",
     "text": [
      "enter the word: ravindra\n",
      "ra... ra... ravindra?\n"
     ]
    }
   ],
   "source": [
    "#Q1\n",
    "def fun(stutter):\n",
    "    ra = stutter[:2]\n",
    "    return (2 * (ra + '... '))+stutter+ '?'\n",
    "print(fun(input(\"enter the word: \")))"
   ]
  },
  {
   "cell_type": "code",
   "execution_count": 17,
   "id": "508c10e5",
   "metadata": {},
   "outputs": [
    {
     "name": "stdout",
     "output_type": "stream",
     "text": [
      "enter the radinas: 5\n",
      "286.3636363636364\n"
     ]
    }
   ],
   "source": [
    "#Q2\n",
    "def radians():\n",
    "    value = 22/7 #here we are taking 22/7 because its the pi value\n",
    "    radian = float(input(\"enter the radinas: \"))\n",
    "    deg = radian*(180/value)\n",
    "    print(deg)\n",
    "radians()"
   ]
  },
  {
   "cell_type": "code",
   "execution_count": 44,
   "id": "6eafeace",
   "metadata": {},
   "outputs": [
    {
     "name": "stdout",
     "output_type": "stream",
     "text": [
      "enter the number: 10\n",
      "False\n"
     ]
    }
   ],
   "source": [
    "#Q3\n",
    "def curzur(n):\n",
    "    up_value = 1+2**n\n",
    "    down_value = 1+2*n\n",
    "    result = up_value%down_value\n",
    "    if result == 0:\n",
    "        return True #returns True if it is a curzon number\n",
    "    else:\n",
    "        return False #returns False if it is not  a curzon number\n",
    "print(curzur(int(input(\"enter the number: \"))))"
   ]
  },
  {
   "cell_type": "code",
   "execution_count": 56,
   "id": "d21e9dd2",
   "metadata": {},
   "outputs": [
    {
     "name": "stdout",
     "output_type": "stream",
     "text": [
      "enter the hexagonal side: 1\n",
      "the area of hexagon is: 2.598076211353316\n"
     ]
    }
   ],
   "source": [
    "#Q4\n",
    "def hex():\n",
    "    hexagon = eval(input(\"enter the hexagonal side: \"))\n",
    "    area = 3*3**0.5/2*hexagon**2\n",
    "    print(\"the area of hexagon is:\",area)\n",
    "hex()"
   ]
  },
  {
   "cell_type": "code",
   "execution_count": 59,
   "id": "6ff160e8",
   "metadata": {},
   "outputs": [
    {
     "name": "stdout",
     "output_type": "stream",
     "text": [
      "enter the number: 5\n",
      "101"
     ]
    }
   ],
   "source": [
    "#Q5\n",
    "def decimal(n):\n",
    "    if n > 1:\n",
    "        decimal(n//2)\n",
    "    print(n%2,end='')\n",
    "num = int(input(\"enter the number: \"))\n",
    "decimal(num)"
   ]
  },
  {
   "cell_type": "code",
   "execution_count": null,
   "id": "5a5f89cd",
   "metadata": {},
   "outputs": [],
   "source": []
  }
 ],
 "metadata": {
  "kernelspec": {
   "display_name": "Python 3",
   "language": "python",
   "name": "python3"
  },
  "language_info": {
   "codemirror_mode": {
    "name": "ipython",
    "version": 3
   },
   "file_extension": ".py",
   "mimetype": "text/x-python",
   "name": "python",
   "nbconvert_exporter": "python",
   "pygments_lexer": "ipython3",
   "version": "3.8.8"
  }
 },
 "nbformat": 4,
 "nbformat_minor": 5
}
