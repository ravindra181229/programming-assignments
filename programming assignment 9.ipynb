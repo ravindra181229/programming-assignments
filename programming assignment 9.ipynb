{
 "cells": [
  {
   "cell_type": "code",
   "execution_count": 6,
   "id": "42653f8c",
   "metadata": {},
   "outputs": [
    {
     "name": "stdout",
     "output_type": "stream",
     "text": [
      "enter the number: 23\n",
      "it is not a disarium number\n"
     ]
    }
   ],
   "source": [
    "#Q1\n",
    "# 'program to check the given number is disarium or not'\n",
    "def Length(n):    \n",
    "    length = 0    \n",
    "    while(n != 0):    \n",
    "        length = length + 1    \n",
    "        n = n//10    \n",
    "    return length   \n",
    "     \n",
    "num = int(input(\"enter the number: \")) \n",
    "result = sum = 0    \n",
    "len = Length(num)   \n",
    "n = num  \n",
    "while(num > 0):    \n",
    "    result = num%10    \n",
    "    sum = sum + int(result**len)    \n",
    "    num = num//10   \n",
    "    len = len - 1    \n",
    "if(sum == n):    \n",
    "    print(\" it is a disarium number\")  \n",
    "else:    \n",
    "    print(\"it is not a disarium number\")  "
   ]
  },
  {
   "cell_type": "code",
   "execution_count": 9,
   "id": "ff1832c3",
   "metadata": {},
   "outputs": [
    {
     "name": "stdout",
     "output_type": "stream",
     "text": [
      "Disarium numbers are\n",
      "1\n",
      "2\n",
      "3\n",
      "4\n",
      "5\n",
      "6\n",
      "7\n",
      "8\n",
      "9\n",
      "89\n"
     ]
    }
   ],
   "source": [
    "#Q2\n",
    "# 'program to display disarium numbers between 1 to 100'\n",
    "def Length(n):    \n",
    "    length = 0   \n",
    "    while(n != 0):    \n",
    "        length = length + 1   \n",
    "        n = n//10   \n",
    "    return length        \n",
    "def sums(num):    \n",
    "    rem = sum = 0    \n",
    "    len = Length(num)    \n",
    "        \n",
    "    while(num > 0):    \n",
    "        rem = num%10    \n",
    "        sum = sum + (rem**len)   \n",
    "        num = num//10    \n",
    "        len = len - 1    \n",
    "    return sum \n",
    "result = 0     \n",
    "print(\"Disarium numbers are\")    \n",
    "for i in range(1, 101):    \n",
    "    result = sums(i)    \n",
    "        \n",
    "    if(result == i):    \n",
    "        print(i) "
   ]
  },
  {
   "cell_type": "code",
   "execution_count": 1,
   "id": "38765b6e",
   "metadata": {},
   "outputs": [
    {
     "name": "stdout",
     "output_type": "stream",
     "text": [
      "enter the number: 5\n",
      "it is not a happy number\n"
     ]
    }
   ],
   "source": [
    "#Q3\n",
    "# 'program to check if the number is happy number or not'    \n",
    "def happy(num):    \n",
    "    res = sum = 0        \n",
    "    while(num > 0):    \n",
    "        res = num%10   \n",
    "        sum = sum + (res*res)    \n",
    "        num = num//10    \n",
    "    return sum    \n",
    "        \n",
    "num = int(input(\"enter the number: \"))    \n",
    "result = num  \n",
    "     \n",
    "while(result != 1 and result != 4):    \n",
    "    result = happy(result)   \n",
    "if(result == 1):    \n",
    "    print(\"it is a happy number\")       \n",
    "elif(result == 4):    \n",
    "    print(\"it is not a happy number\")"
   ]
  },
  {
   "cell_type": "code",
   "execution_count": 63,
   "id": "18176f87",
   "metadata": {},
   "outputs": [
    {
     "name": "stdout",
     "output_type": "stream",
     "text": [
      "List of happy numbers are: \n",
      "1\n",
      "7\n",
      "10\n",
      "13\n",
      "19\n",
      "23\n",
      "28\n",
      "31\n",
      "32\n",
      "44\n",
      "49\n",
      "68\n",
      "70\n",
      "79\n",
      "82\n",
      "86\n",
      "91\n",
      "94\n",
      "97\n",
      "100\n"
     ]
    }
   ],
   "source": [
    "#Q4\n",
    "#'program to print all happy between 1 to 100'\n",
    "def happy(num):    \n",
    "    res = sum = 0        \n",
    "    while(num > 0):    \n",
    "        res = num%10    \n",
    "        sum = sum + (res*res)    \n",
    "        num = num//10   \n",
    "    return sum   \n",
    "print(\"List of happy numbers are: \")  \n",
    "for i in range(1, 101):    \n",
    "    result = i   \n",
    "    while(result != 1 and result != 4):    \n",
    "        result = happy(result)   \n",
    "        \n",
    "    if(result == 1):    \n",
    "        print(i)    "
   ]
  },
  {
   "cell_type": "code",
   "execution_count": 59,
   "id": "44a162ca",
   "metadata": {},
   "outputs": [
    {
     "name": "stdout",
     "output_type": "stream",
     "text": [
      "enter the number: 233\n",
      "it is not a harshad number\n"
     ]
    }
   ],
   "source": [
    "#Q5\n",
    "# 'program to determine the number is harshad number or not'\n",
    "num = int(input(\"enter the number: \"))  \n",
    "res = sum = 0   \n",
    "n = num        \n",
    "while(num > 0):    \n",
    "    res = num%10    \n",
    "    sum = sum + res \n",
    "    num = num//10    \n",
    "if(n%sum == 0):    \n",
    "    print(\"it is a harshad number\")   \n",
    "else:    \n",
    "    print(\"it is not a harshad number\") \n"
   ]
  },
  {
   "cell_type": "code",
   "execution_count": 4,
   "id": "083b13e2",
   "metadata": {},
   "outputs": [
    {
     "name": "stdout",
     "output_type": "stream",
     "text": [
      "Pronic numbers are: \n",
      "2\n",
      "6\n",
      "12\n",
      "20\n",
      "30\n",
      "42\n",
      "56\n",
      "72\n",
      "90\n"
     ]
    }
   ],
   "source": [
    "#Q6\n",
    "# 'program to print all pronic numbers between 1 to 100'\n",
    "def pronic(num):    \n",
    "    result =  False    \n",
    "    for j in range(1, num+1):\n",
    "        if((j*(j+1)) == num):    \n",
    "            result = True    \n",
    "            break    \n",
    "    return result    \n",
    "print(\"Pronic numbers are: \")  \n",
    "for i in range(1, 101):    \n",
    "    if(pronic(i)):    \n",
    "        print(i)    "
   ]
  },
  {
   "cell_type": "code",
   "execution_count": null,
   "id": "a828002d",
   "metadata": {},
   "outputs": [],
   "source": []
  }
 ],
 "metadata": {
  "kernelspec": {
   "display_name": "Python 3",
   "language": "python",
   "name": "python3"
  },
  "language_info": {
   "codemirror_mode": {
    "name": "ipython",
    "version": 3
   },
   "file_extension": ".py",
   "mimetype": "text/x-python",
   "name": "python",
   "nbconvert_exporter": "python",
   "pygments_lexer": "ipython3",
   "version": "3.8.8"
  }
 },
 "nbformat": 4,
 "nbformat_minor": 5
}
