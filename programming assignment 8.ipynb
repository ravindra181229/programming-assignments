{
 "cells": [
  {
   "cell_type": "code",
   "execution_count": 29,
   "id": "d331066e",
   "metadata": {},
   "outputs": [
    {
     "name": "stdout",
     "output_type": "stream",
     "text": [
      "[[10 12 14]\n",
      " [10 12 14]\n",
      " [10 12 14]]\n"
     ]
    }
   ],
   "source": [
    "#Q1 \n",
    "#'to add the two matrices'\n",
    "import numpy as np\n",
    "arr = np.array(([4,5,6],[4,5,6],[4,5,6]))\n",
    "arr1 = np.array(([6,7,8],[6,7,8],[6,7,8]))\n",
    "result = arr +arr1\n",
    "print(result)"
   ]
  },
  {
   "cell_type": "code",
   "execution_count": 12,
   "id": "33a2dcc3",
   "metadata": {},
   "outputs": [
    {
     "name": "stdout",
     "output_type": "stream",
     "text": [
      "[[24 35 48]\n",
      " [24 35 48]\n",
      " [24 35 48]]\n"
     ]
    }
   ],
   "source": [
    "#Q2 \n",
    "#'to multiply two matrices'\n",
    "import numpy as np\n",
    "arr = np.array(([4,5,6],[4,5,6],[4,5,6]))\n",
    "arr1 = np.array(([6,7,8],[6,7,8],[6,7,8]))\n",
    "result = arr * arr1\n",
    "print(result)"
   ]
  },
  {
   "cell_type": "code",
   "execution_count": 50,
   "id": "ec102fa1",
   "metadata": {},
   "outputs": [
    {
     "name": "stdout",
     "output_type": "stream",
     "text": [
      "[[10  9]\n",
      " [ 8 34]\n",
      " [78  0]]\n"
     ]
    }
   ],
   "source": [
    "#Q3\n",
    "#program to transpose a matrix\n",
    "import numpy as np\n",
    "arr = np.matrix('[10,8,78;9,34,0]')\n",
    "result = arr.transpose()\n",
    "print(result)"
   ]
  },
  {
   "cell_type": "code",
   "execution_count": 36,
   "id": "53c4456c",
   "metadata": {},
   "outputs": [
    {
     "name": "stdout",
     "output_type": "stream",
     "text": [
      "enter the string: my name is Ravindra v, and i am student of ineuron's full_stack_data_science course\n",
      "Ravindra\n",
      "am\n",
      "and\n",
      "course\n",
      "full_stack_data_science\n",
      "i\n",
      "ineuron's\n",
      "is\n",
      "my\n",
      "name\n",
      "of\n",
      "student\n",
      "v,\n"
     ]
    }
   ],
   "source": [
    "#Q4\n",
    "#'to sort words in alphabetic order'\n",
    "ra = input(\"enter the string: \")\n",
    "word = ra.split()\n",
    "word.sort()\n",
    "for result in word:\n",
    "    print(result)"
   ]
  },
  {
   "cell_type": "code",
   "execution_count": 49,
   "id": "fec853cc",
   "metadata": {},
   "outputs": [
    {
     "name": "stdout",
     "output_type": "stream",
     "text": [
      "enter the string: $ravindra #is %student ^of *ineuron\n",
      "ravindra is student of ineuron\n"
     ]
    }
   ],
   "source": [
    "#Q5\n",
    "#'program to remove the punctuation'\n",
    "import re #import regular expression module \n",
    "ra = input(\"enter the string: \")\n",
    "ra = re.sub(r'[^\\w\\s]','',ra)\n",
    "print(ra)"
   ]
  },
  {
   "cell_type": "code",
   "execution_count": null,
   "id": "484b8ea0",
   "metadata": {},
   "outputs": [],
   "source": []
  }
 ],
 "metadata": {
  "kernelspec": {
   "display_name": "Python 3",
   "language": "python",
   "name": "python3"
  },
  "language_info": {
   "codemirror_mode": {
    "name": "ipython",
    "version": 3
   },
   "file_extension": ".py",
   "mimetype": "text/x-python",
   "name": "python",
   "nbconvert_exporter": "python",
   "pygments_lexer": "ipython3",
   "version": "3.8.8"
  }
 },
 "nbformat": 4,
 "nbformat_minor": 5
}
