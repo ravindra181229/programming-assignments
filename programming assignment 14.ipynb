{
 "cells": [
  {
   "cell_type": "code",
   "execution_count": 44,
   "id": "5af626d9",
   "metadata": {},
   "outputs": [
    {
     "name": "stdout",
     "output_type": "stream",
     "text": [
      "0\n",
      "7\n",
      "14\n",
      "21\n",
      "28\n",
      "35\n",
      "42\n",
      "49\n"
     ]
    }
   ],
   "source": [
    "#Q1\n",
    "def num(n):\n",
    "    i = 0\n",
    "    while i<n:\n",
    "        j=i\n",
    "        i+=1\n",
    "        if j%7==0:\n",
    "            yield j\n",
    "for i in num(50):\n",
    "    print (i)"
   ]
  },
  {
   "cell_type": "code",
   "execution_count": 48,
   "id": "93a5203b",
   "metadata": {},
   "outputs": [
    {
     "name": "stdout",
     "output_type": "stream",
     "text": [
      "enter the string: new to python or choosing between python 2 and python 3? read python 2 or python 3\n",
      "the frequency for 2 is: 2\n",
      "the frequency for 3 is: 1\n",
      "the frequency for 3? is: 1\n",
      "the frequency for and is: 1\n",
      "the frequency for between is: 1\n",
      "the frequency for choosing is: 1\n",
      "the frequency for new is: 1\n",
      "the frequency for or is: 2\n",
      "the frequency for python is: 5\n",
      "the frequency for read is: 1\n",
      "the frequency for to is: 1\n"
     ]
    }
   ],
   "source": [
    "#Q2\n",
    "input_fun = input(\"enter the string: \")\n",
    "words = {}\n",
    "for i in input_fun.split():\n",
    "    words[i] = words.get(i,0)+1\n",
    "for key in sorted(words):\n",
    "    print(\"the frequency for {} is: {}\".format(key,words[key]))"
   ]
  },
  {
   "cell_type": "code",
   "execution_count": 5,
   "id": "ea793483",
   "metadata": {},
   "outputs": [
    {
     "name": "stdout",
     "output_type": "stream",
     "text": [
      "male\n",
      "female\n"
     ]
    }
   ],
   "source": [
    "#Q3\n",
    "class person(object):\n",
    "    def getGender(self):\n",
    "        return \"person\"\n",
    "class male(person):\n",
    "    def getGender(self):\n",
    "        return \"male\"\n",
    "class female(person):\n",
    "    def getGender(self):\n",
    "        return \"female\"\n",
    "Male = male()\n",
    "Female = female()\n",
    "print(Male.getGender())\n",
    "print(Female.getGender())"
   ]
  },
  {
   "cell_type": "code",
   "execution_count": 7,
   "id": "0aeb5310",
   "metadata": {},
   "outputs": [
    {
     "name": "stdout",
     "output_type": "stream",
     "text": [
      "i, play, hockey\n",
      "i, play, football\n",
      "i, love, hockey\n",
      "i, love, football\n",
      "you, play, hockey\n",
      "you, play, football\n",
      "you, love, hockey\n",
      "you, love, football\n"
     ]
    }
   ],
   "source": [
    "#Q4\n",
    "subjects = [\"i\",\"you\"]\n",
    "verb = [\"play\",\"love\"]\n",
    "Object = [\"hockey\",\"football\"]\n",
    "for i in subjects:\n",
    "    for j in verb:\n",
    "        for k in Object:\n",
    "            print(\"{0}, {1}, {2}\".format(i,j,k))\n",
    "            "
   ]
  },
  {
   "cell_type": "code",
   "execution_count": 20,
   "id": "ef935d93",
   "metadata": {},
   "outputs": [
    {
     "name": "stdout",
     "output_type": "stream",
     "text": [
      "the result after compression is:  b'x\\x9c\\xcbH\\xcd\\xc9\\xc9W(\\xcf/\\xcaIQ\\xcc \\x82\\r\\x00\\xbd[\\x11\\xf5'\n",
      "b'hello world!hello world!hello world!hello world!'\n"
     ]
    }
   ],
   "source": [
    "#Q5\n",
    "import zlib #importing zlib module , which provides python interface and used for data compression \n",
    "string = \"hello world!hello world!hello world!hello world!\"\n",
    "result = bytes(string, 'utf-8')\n",
    "a = zlib.compress(result)\n",
    "print(\"the result after compression is: \",a)\n",
    "print(zlib.decompress(a))"
   ]
  },
  {
   "cell_type": "code",
   "execution_count": 31,
   "id": "1c615eb2",
   "metadata": {},
   "outputs": [
    {
     "name": "stdout",
     "output_type": "stream",
     "text": [
      "3\n"
     ]
    }
   ],
   "source": [
    "#Q6\n",
    "import math\n",
    "def binary_search(result,number):\n",
    "    down = 0\n",
    "    up = len(result)-1\n",
    "    index = -1\n",
    "    while up >= down and index == -1:\n",
    "        middle = int(math.floor((up+down)/2))\n",
    "        if result[middle] == number:\n",
    "            index = middle\n",
    "        elif result[middle] > number:\n",
    "            up = middle - 1\n",
    "        else:\n",
    "            down = middle +1 \n",
    "    return index \n",
    "result = [5,7,8,100,9,10,11]\n",
    "print(binary_search(result,100))"
   ]
  },
  {
   "cell_type": "code",
   "execution_count": null,
   "id": "eb626811",
   "metadata": {},
   "outputs": [],
   "source": []
  }
 ],
 "metadata": {
  "kernelspec": {
   "display_name": "Python 3",
   "language": "python",
   "name": "python3"
  },
  "language_info": {
   "codemirror_mode": {
    "name": "ipython",
    "version": 3
   },
   "file_extension": ".py",
   "mimetype": "text/x-python",
   "name": "python",
   "nbconvert_exporter": "python",
   "pygments_lexer": "ipython3",
   "version": "3.8.8"
  }
 },
 "nbformat": 4,
 "nbformat_minor": 5
}
