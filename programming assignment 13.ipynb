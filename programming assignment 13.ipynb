{
 "cells": [
  {
   "cell_type": "code",
   "execution_count": 4,
   "id": "845b62bf",
   "metadata": {},
   "outputs": [
    {
     "name": "stdout",
     "output_type": "stream",
     "text": [
      "enter the values: 100,150,180\n",
      "the output of the given numbers is: [18, 22, 24]\n"
     ]
    }
   ],
   "source": [
    "#Q1\n",
    "import math\n",
    "num = input(\"enter the values: \")\n",
    "num = num.split(',') \n",
    "result = []\n",
    "for i in num:\n",
    "    ans = round(math.sqrt(2*50*int(i)/30)) # i is replaced by d, the value of C is 50 and value of H is 30\n",
    "    result.append(ans)\n",
    "print(\"the output of the given numbers is: {}\".format(result))"
   ]
  },
  {
   "cell_type": "code",
   "execution_count": 11,
   "id": "93a52aca",
   "metadata": {},
   "outputs": [
    {
     "name": "stdout",
     "output_type": "stream",
     "text": [
      "enter the no. of rows: 3\n",
      "enter the no. of columns: 4\n",
      "[[0, 0, 0, 0], [0, 1, 2, 3], [0, 2, 4, 6]]\n"
     ]
    }
   ],
   "source": [
    "#Q2\n",
    "row = int(input(\"enter the no. of rows: \"))\n",
    "column = int(input(\"enter the no. of columns: \"))\n",
    "result = [[0 for col in range(column)] for row in range(row)]\n",
    "for row in range(row):\n",
    "    for col in range(column):\n",
    "        result[row][col] = row*col\n",
    "print(result)"
   ]
  },
  {
   "cell_type": "code",
   "execution_count": 15,
   "id": "d38d0b38",
   "metadata": {},
   "outputs": [
    {
     "name": "stdout",
     "output_type": "stream",
     "text": [
      "enter the words! : without,hello,bag,world\n",
      "the output after sorting is:  bag,hello,without,world\n"
     ]
    }
   ],
   "source": [
    "#Q3\n",
    "words = input(\"enter the words! : \")\n",
    "words_sequence = words.split(',')\n",
    "words_sequence.sort()\n",
    "print(\"the output after sorting is: \", (',').join(words_sequence))"
   ]
  },
  {
   "cell_type": "code",
   "execution_count": 18,
   "id": "f989dc93",
   "metadata": {},
   "outputs": [
    {
     "name": "stdout",
     "output_type": "stream",
     "text": [
      "enter the words: hello world and practice makes perfect and hello world again\n",
      "the result for the above input is : again and hello makes perfect practice world\n"
     ]
    }
   ],
   "source": [
    "#Q4\n",
    "words = input(\"enter the words: \").split()\n",
    "for i in words:\n",
    "    if words.count(i) > 1:\n",
    "        words.remove(i)\n",
    "words.sort()\n",
    "print('the result for the above input is :',\" \".join(words))"
   ]
  },
  {
   "cell_type": "code",
   "execution_count": 21,
   "id": "601393b7",
   "metadata": {},
   "outputs": [
    {
     "name": "stdout",
     "output_type": "stream",
     "text": [
      "enter the words: hello world! 1234\n",
      "letters are:  10\n",
      "digits are:  4\n"
     ]
    }
   ],
   "source": [
    "#Q5\n",
    "def cal_num_dig():\n",
    "    count_words = input(\"enter the words: \")\n",
    "    count_words = list(count_words)\n",
    "    l,d = 0,0\n",
    "    for i in count_words:\n",
    "        if i.isalpha():\n",
    "            l += 1\n",
    "        if i.isdigit():\n",
    "            d += 1\n",
    "        else:\n",
    "            pass\n",
    "    print(\"letters are: \",l)\n",
    "    print(\"digits are: \",d)\n",
    "cal_num_dig()"
   ]
  },
  {
   "cell_type": "code",
   "execution_count": 31,
   "id": "8ecafb05",
   "metadata": {},
   "outputs": [
    {
     "name": "stdout",
     "output_type": "stream",
     "text": [
      "please enter your password: @Ravi56#\n",
      "Valid Password\n"
     ]
    }
   ],
   "source": [
    "#Q6\n",
    "import re  #importing regular expression module \n",
    "password= input(\"please enter your password: \")\n",
    "result = True\n",
    "while result:  \n",
    "    if (len(password)<6 or len(password)>12): # here we are declaring the length of password \n",
    "        break\n",
    "    elif not re.search(\"[a-z]\",password):\n",
    "        break\n",
    "    elif not re.search(\"[0-9]\",password):\n",
    "        break\n",
    "    elif not re.search(\"[A-Z]\",password):\n",
    "        break\n",
    "    elif not re.search(\"[$#@]\",password):\n",
    "        break\n",
    "    elif re.search(\"\\s\",password):\n",
    "        break\n",
    "    else:\n",
    "        print(\"Valid Password\")\n",
    "        result=False\n",
    "        break\n",
    "if result:\n",
    "    print(\"Not a Valid Password\")"
   ]
  },
  {
   "cell_type": "code",
   "execution_count": null,
   "id": "587a6439",
   "metadata": {},
   "outputs": [],
   "source": []
  }
 ],
 "metadata": {
  "kernelspec": {
   "display_name": "Python 3",
   "language": "python",
   "name": "python3"
  },
  "language_info": {
   "codemirror_mode": {
    "name": "ipython",
    "version": 3
   },
   "file_extension": ".py",
   "mimetype": "text/x-python",
   "name": "python",
   "nbconvert_exporter": "python",
   "pygments_lexer": "ipython3",
   "version": "3.8.8"
  }
 },
 "nbformat": 4,
 "nbformat_minor": 5
}
